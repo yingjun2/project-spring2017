{
 "cells": [
  {
   "cell_type": "code",
   "execution_count": 18,
   "metadata": {
    "collapsed": true
   },
   "outputs": [],
   "source": [
    "import pandas as pd\n",
    "import numpy as np\n",
    "import plotly\n",
    "import plotly.plotly as py\n",
    "from plotly.graph_objs import *"
   ]
  },
  {
   "cell_type": "code",
   "execution_count": 22,
   "metadata": {
    "collapsed": false
   },
   "outputs": [],
   "source": [
    "plotly.tools.set_credentials_file(username='lis590dv', api_key='6uwmYW8YbwRrWizyrqCS')\n",
    "mapbox_access_token = 'pk.eyJ1IjoieGlhb2xpYW5namlhbmciLCJhIjoiY2l6OWJhZTZqMDFoMDJ3cG82Znhja3dodCJ9.88BUSeqz4H2xm8bemGd4VQ'"
   ]
  },
  {
   "cell_type": "code",
   "execution_count": 32,
   "metadata": {
    "collapsed": false
   },
   "outputs": [
    {
     "data": {
      "text/html": [
       "<div>\n",
       "<table border=\"1\" class=\"dataframe\">\n",
       "  <thead>\n",
       "    <tr style=\"text-align: right;\">\n",
       "      <th></th>\n",
       "      <th>stop_id</th>\n",
       "      <th>stop_code</th>\n",
       "      <th>stop_name</th>\n",
       "      <th>stop_desc</th>\n",
       "      <th>stop_lat</th>\n",
       "      <th>stop_lon</th>\n",
       "      <th>zone_id</th>\n",
       "      <th>stop_url</th>\n",
       "      <th>location_type</th>\n",
       "      <th>parent_station</th>\n",
       "    </tr>\n",
       "  </thead>\n",
       "  <tbody>\n",
       "    <tr>\n",
       "      <th>0</th>\n",
       "      <td>KBYWSFLD:3</td>\n",
       "      <td>MTD4346</td>\n",
       "      <td>Kirby &amp; Westfield (South Side)</td>\n",
       "      <td>NaN</td>\n",
       "      <td>40.098248</td>\n",
       "      <td>-88.290173</td>\n",
       "      <td>1</td>\n",
       "      <td>http://www.cumtd.com/maps-and-schedules/bus-st...</td>\n",
       "      <td>0</td>\n",
       "      <td>NaN</td>\n",
       "    </tr>\n",
       "    <tr>\n",
       "      <th>1</th>\n",
       "      <td>PHILOMI:4</td>\n",
       "      <td>MTD1026</td>\n",
       "      <td>Philo &amp; Michigan (NW Corner)</td>\n",
       "      <td>NaN</td>\n",
       "      <td>40.101792</td>\n",
       "      <td>-88.190865</td>\n",
       "      <td>1</td>\n",
       "      <td>http://www.cumtd.com/maps-and-schedules/bus-st...</td>\n",
       "      <td>0</td>\n",
       "      <td>NaN</td>\n",
       "    </tr>\n",
       "    <tr>\n",
       "      <th>2</th>\n",
       "      <td>DNCNCLKRD:2</td>\n",
       "      <td>MTD3333</td>\n",
       "      <td>Duncan &amp; Clark (SE Corner)</td>\n",
       "      <td>NaN</td>\n",
       "      <td>40.117390</td>\n",
       "      <td>-88.295470</td>\n",
       "      <td>1</td>\n",
       "      <td>http://www.cumtd.com/maps-and-schedules/bus-st...</td>\n",
       "      <td>0</td>\n",
       "      <td>NaN</td>\n",
       "    </tr>\n",
       "    <tr>\n",
       "      <th>3</th>\n",
       "      <td>TRLSPHILO:1</td>\n",
       "      <td>MTD6424</td>\n",
       "      <td>Trails &amp; Philo (NE Corner)</td>\n",
       "      <td>NaN</td>\n",
       "      <td>40.077915</td>\n",
       "      <td>-88.190315</td>\n",
       "      <td>1</td>\n",
       "      <td>http://www.cumtd.com/maps-and-schedules/bus-st...</td>\n",
       "      <td>0</td>\n",
       "      <td>NaN</td>\n",
       "    </tr>\n",
       "    <tr>\n",
       "      <th>4</th>\n",
       "      <td>RMNERKA:4</td>\n",
       "      <td>MTD4040</td>\n",
       "      <td>Romine &amp; Eureka (NW Corner)</td>\n",
       "      <td>NaN</td>\n",
       "      <td>40.125585</td>\n",
       "      <td>-88.227525</td>\n",
       "      <td>1</td>\n",
       "      <td>http://www.cumtd.com/maps-and-schedules/bus-st...</td>\n",
       "      <td>0</td>\n",
       "      <td>NaN</td>\n",
       "    </tr>\n",
       "  </tbody>\n",
       "</table>\n",
       "</div>"
      ],
      "text/plain": [
       "       stop_id stop_code                       stop_name  stop_desc  \\\n",
       "0   KBYWSFLD:3   MTD4346  Kirby & Westfield (South Side)        NaN   \n",
       "1    PHILOMI:4   MTD1026    Philo & Michigan (NW Corner)        NaN   \n",
       "2  DNCNCLKRD:2   MTD3333      Duncan & Clark (SE Corner)        NaN   \n",
       "3  TRLSPHILO:1   MTD6424      Trails & Philo (NE Corner)        NaN   \n",
       "4    RMNERKA:4   MTD4040     Romine & Eureka (NW Corner)        NaN   \n",
       "\n",
       "    stop_lat   stop_lon  zone_id  \\\n",
       "0  40.098248 -88.290173        1   \n",
       "1  40.101792 -88.190865        1   \n",
       "2  40.117390 -88.295470        1   \n",
       "3  40.077915 -88.190315        1   \n",
       "4  40.125585 -88.227525        1   \n",
       "\n",
       "                                            stop_url  location_type  \\\n",
       "0  http://www.cumtd.com/maps-and-schedules/bus-st...              0   \n",
       "1  http://www.cumtd.com/maps-and-schedules/bus-st...              0   \n",
       "2  http://www.cumtd.com/maps-and-schedules/bus-st...              0   \n",
       "3  http://www.cumtd.com/maps-and-schedules/bus-st...              0   \n",
       "4  http://www.cumtd.com/maps-and-schedules/bus-st...              0   \n",
       "\n",
       "   parent_station  \n",
       "0             NaN  \n",
       "1             NaN  \n",
       "2             NaN  \n",
       "3             NaN  \n",
       "4             NaN  "
      ]
     },
     "execution_count": 32,
     "metadata": {},
     "output_type": "execute_result"
    }
   ],
   "source": [
    "df = pd.read_csv('stops.txt',encoding='iso-8859-1')\n",
    "df.head()"
   ]
  },
  {
   "cell_type": "code",
   "execution_count": 43,
   "metadata": {
    "collapsed": false,
    "scrolled": true
   },
   "outputs": [],
   "source": [
    "#latitude=[]\n",
    "#longitude=[]\n",
    "#color=[\"#ffe6cc\",\"#ffeecc\",\"#fff7cc\",\"#ffffcc\",\"#f7ffcc\",\"#eeffcc\",\"#e6ffcc\",\"#ddffcc\",\"#d5ffcc\"]\n",
    "#color1=[]\n",
    "#for i in range(9):\n",
    "#    latitude1=df['stop_lat']\n",
    "#    longitude1=df['stop_lon']\n",
    "#    longitude.append(longitude1)\n",
    "#    latitude.append(latitude1)\n",
    "#    for j in range(len(df['stop_lat'])):\n",
    "#        color1.append(color[i])"
   ]
  },
  {
   "cell_type": "code",
   "execution_count": 31,
   "metadata": {
    "collapsed": false
   },
   "outputs": [
    {
     "data": {
      "text/html": [
       "<iframe id=\"igraph\" scrolling=\"no\" style=\"border:none;\" seamless=\"seamless\" src=\"https://plot.ly/~lis590dv/4.embed\" height=\"525px\" width=\"100%\"></iframe>"
      ],
      "text/plain": [
       "<plotly.tools.PlotlyDisplay object>"
      ]
     },
     "execution_count": 31,
     "metadata": {},
     "output_type": "execute_result"
    }
   ],
   "source": [
    "data = Data([\n",
    "    Scattermapbox(\n",
    "        lat=df['stop_lat'],\n",
    "        lon=df['stop_lon'],\n",
    "        mode='markers',\n",
    "        marker=Marker(\n",
    "            size=9\n",
    "        ),\n",
    "        text=df['stop_name'],\n",
    "    )\n",
    "])\n",
    "layout = Layout(\n",
    "    autosize=True,\n",
    "    hovermode='closest',\n",
    "    mapbox=dict(\n",
    "        accesstoken=mapbox_access_token,\n",
    "        bearing=0,\n",
    "        center=dict(\n",
    "            lat=40.11,\n",
    "            lon=-88.23\n",
    "        ),\n",
    "        pitch=0,\n",
    "        zoom=10\n",
    "    ),\n",
    ")\n",
    "\n",
    "fig = dict(data=data, layout=layout)\n",
    "py.iplot(fig, filename='Multiple Mapbox')"
   ]
  },
  {
   "cell_type": "code",
   "execution_count": null,
   "metadata": {
    "collapsed": true
   },
   "outputs": [],
   "source": []
  }
 ],
 "metadata": {
  "kernelspec": {
   "display_name": "Python 3",
   "language": "python",
   "name": "python3"
  },
  "language_info": {
   "codemirror_mode": {
    "name": "ipython",
    "version": 3
   },
   "file_extension": ".py",
   "mimetype": "text/x-python",
   "name": "python",
   "nbconvert_exporter": "python",
   "pygments_lexer": "ipython3",
   "version": "3.5.2"
  }
 },
 "nbformat": 4,
 "nbformat_minor": 2
}
