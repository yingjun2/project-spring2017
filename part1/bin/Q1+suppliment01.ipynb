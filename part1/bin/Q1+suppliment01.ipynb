{
 "cells": [
  {
   "cell_type": "code",
   "execution_count": 77,
   "metadata": {
    "collapsed": true
   },
   "outputs": [],
   "source": [
    "import plotly\n",
    "import plotly.plotly as py\n",
    "from plotly.graph_objs import *\n",
    "import pandas as pd\n",
    "import math\n",
    "from IPython.display import Image\n",
    "import time\n",
    "\n",
    "plotly.tools.set_credentials_file(username='xjiang36', api_key='uZyWsdSH3xd9bxUefIFf')"
   ]
  },
  {
   "cell_type": "code",
   "execution_count": 78,
   "metadata": {
    "collapsed": false
   },
   "outputs": [
    {
     "name": "stderr",
     "output_type": "stream",
     "text": [
      "/opt/conda/lib/python3.5/site-packages/ipykernel/__main__.py:9: SettingWithCopyWarning:\n",
      "\n",
      "\n",
      "A value is trying to be set on a copy of a slice from a DataFrame\n",
      "\n",
      "See the caveats in the documentation: http://pandas.pydata.org/pandas-docs/stable/indexing.html#indexing-view-versus-copy\n",
      "\n",
      "/opt/conda/lib/python3.5/site-packages/ipykernel/__main__.py:18: SettingWithCopyWarning:\n",
      "\n",
      "\n",
      "A value is trying to be set on a copy of a slice from a DataFrame\n",
      "\n",
      "See the caveats in the documentation: http://pandas.pydata.org/pandas-docs/stable/indexing.html#indexing-view-versus-copy\n",
      "\n"
     ]
    },
    {
     "data": {
      "text/html": [
       "<iframe id=\"igraph\" scrolling=\"no\" style=\"border:none;\" seamless=\"seamless\" src=\"https://plot.ly/~xjiang36/8.embed\" height=\"525px\" width=\"100%\"></iframe>"
      ],
      "text/plain": [
       "<plotly.tools.PlotlyDisplay object>"
      ]
     },
     "execution_count": 78,
     "metadata": {},
     "output_type": "execute_result"
    }
   ],
   "source": [
    "dfroutes = pd.read_csv(\"routes.txt\",encoding='iso-8859-1')\n",
    "dftrips = pd.read_csv(\"trips.txt\",encoding='iso-8859-1')\n",
    "routeclean=dftrips[\"route_id\"].value_counts().reset_index().rename(columns={'index': 'x'})\n",
    "def Nameclean(dataset,a):\n",
    "    wordlist=[\"SILVER\",\"ILLINI\",\"TEAL\",\"YELLOW\",\"GREEN\",\"BROWN\",\"GREY\",\"GOLD\",\"LIME\",\"BLUE\",\"RED\",\"BROWN\",\"BRONZE\",\"ORANGE\",\"LAVENDER\",\"RUBY\"]\n",
    "    for j in range(len(wordlist)):\n",
    "        for i in range(len(dataset)):\n",
    "            if dataset[a][i].find(wordlist[j])>=0:\n",
    "                dataset[a][i]=wordlist[j]\n",
    "Nameclean(routeclean,\"x\")\n",
    "sumroute=routeclean[:18]\n",
    "cleanedroute=routeclean[\"x\"].value_counts().reset_index().rename(columns={'index': 'name'})\n",
    "for j in range(len(cleanedroute[\"name\"])):\n",
    "    rsum=0\n",
    "    for i in range(len(routeclean)):\n",
    "        if routeclean[\"x\"][i]==cleanedroute[\"name\"][j]:\n",
    "            rsum+=routeclean[\"route_id\"][i]\n",
    "    cleanedroute[\"x\"][j]=rsum\n",
    "colorbar0=[]\n",
    "for i in range(len(cleanedroute['name'])):\n",
    "    for j in range(len(dfroutes['route_id'])):\n",
    "        if cleanedroute['name'][i]==dfroutes['route_id'][j]:\n",
    "            colorbar0.append(\"#%s\"%dfroutes['route_color'][j])\n",
    "            break\n",
    "import plotly.plotly as py\n",
    "import plotly.graph_objs as go\n",
    "\n",
    "trace0 = go.Bar(\n",
    "    x=cleanedroute[\"name\"],\n",
    "    y=cleanedroute[\"x\"],\n",
    "    marker=dict(\n",
    "        #color=['#66FF66','#FFFF66','#E0E0E0','','#666600','#A0A0A0','#FF6666','#B266FF','#CCCC00','#663300','#FFFF99','#FF9933','#FF0000','#66FFFF','#0000FF','#FF66B2','#000066','#330000']),\n",
    "        color=colorbar0),\n",
    ")\n",
    "\n",
    "data = [trace0]\n",
    "layout = go.Layout(\n",
    "    title='Buses on each route',\n",
    ")\n",
    "\n",
    "fig = go.Figure(data=data, layout=layout)\n",
    "py.iplot(fig, filename='color-bar')"
   ]
  },
  {
   "cell_type": "code",
   "execution_count": 79,
   "metadata": {
    "collapsed": false
   },
   "outputs": [
    {
     "name": "stderr",
     "output_type": "stream",
     "text": [
      "/opt/conda/lib/python3.5/site-packages/ipykernel/__main__.py:9: SettingWithCopyWarning:\n",
      "\n",
      "\n",
      "A value is trying to be set on a copy of a slice from a DataFrame\n",
      "\n",
      "See the caveats in the documentation: http://pandas.pydata.org/pandas-docs/stable/indexing.html#indexing-view-versus-copy\n",
      "\n"
     ]
    },
    {
     "data": {
      "text/html": [
       "<iframe id=\"igraph\" scrolling=\"no\" style=\"border:none;\" seamless=\"seamless\" src=\"https://plot.ly/~xjiang36/8.embed\" height=\"525px\" width=\"100%\"></iframe>"
      ],
      "text/plain": [
       "<plotly.tools.PlotlyDisplay object>"
      ]
     },
     "execution_count": 79,
     "metadata": {},
     "output_type": "execute_result"
    }
   ],
   "source": [
    "dfroutes = pd.read_csv(\"routes.txt\",encoding='iso-8859-1')\n",
    "dftrips = pd.read_csv(\"trips.txt\",encoding='iso-8859-1')\n",
    "routeclean=dftrips[\"route_id\"].value_counts().reset_index().rename(columns={'index': 'x'})\n",
    "def Nameclean(dataset,a):\n",
    "    wordlist=[\"SILVER\",\"ILLINI\",\"TEAL\",\"YELLOW\",\"GREEN\",\"BROWN\",\"GREY\",\"GOLD\",\"LIME\",\"BLUE\",\"RED\",\"BROWN\",\"BRONZE\",\"ORANGE\",\"LAVENDER\",\"RUBY\"]\n",
    "    for j in range(len(wordlist)):\n",
    "        for i in range(len(dataset)):\n",
    "            if dataset[a][i].find(wordlist[j])>=0:\n",
    "                dataset[a][i]=wordlist[j]\n",
    "Nameclean(routeclean,\"x\")\n",
    "sumroute=routeclean[:18]\n",
    "cleanedroute=routeclean[\"x\"].value_counts().reset_index().rename(columns={'index': 'name'})\n",
    "trace0 = go.Bar(\n",
    "    x=cleanedroute[\"name\"],\n",
    "    y=cleanedroute[\"x\"],\n",
    "    marker=dict(\n",
    "        #color=['#66FF66','#FFFF66','#E0E0E0','','#666600','#A0A0A0','#FF6666','#B266FF','#CCCC00','#663300','#FFFF99','#FF9933','#FF0000','#66FFFF','#0000FF','#FF66B2','#000066','#330000']),\n",
    "        color=colorbar0),\n",
    ")\n",
    "\n",
    "data = [trace0]\n",
    "layout = go.Layout(\n",
    "    title='Distribution of each route by color',\n",
    ")\n",
    "\n",
    "fig = go.Figure(data=data, layout=layout)\n",
    "py.iplot(fig, filename='color-bar')"
   ]
  },
  {
   "cell_type": "code",
   "execution_count": null,
   "metadata": {
    "collapsed": true
   },
   "outputs": [],
   "source": []
  }
 ],
 "metadata": {
  "kernelspec": {
   "display_name": "Python 3",
   "language": "python",
   "name": "python3"
  },
  "language_info": {
   "codemirror_mode": {
    "name": "ipython",
    "version": 3
   },
   "file_extension": ".py",
   "mimetype": "text/x-python",
   "name": "python",
   "nbconvert_exporter": "python",
   "pygments_lexer": "ipython3",
   "version": "3.5.2"
  }
 },
 "nbformat": 4,
 "nbformat_minor": 2
}
