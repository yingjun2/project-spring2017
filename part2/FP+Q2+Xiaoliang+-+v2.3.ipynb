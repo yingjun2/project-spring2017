{
 "cells": [
  {
   "cell_type": "code",
   "execution_count": 1,
   "metadata": {
    "collapsed": false
   },
   "outputs": [],
   "source": [
    "import pandas as pd\n",
    "import numpy as np\n",
    "import matplotlib.pyplot as plt"
   ]
  },
  {
   "cell_type": "code",
   "execution_count": 2,
   "metadata": {
    "collapsed": false
   },
   "outputs": [],
   "source": [
    "import plotly\n",
    "import plotly.plotly as py\n",
    "from plotly.graph_objs import *\n",
    "import pandas as pd"
   ]
  },
  {
   "cell_type": "code",
   "execution_count": 20,
   "metadata": {
    "collapsed": false
   },
   "outputs": [],
   "source": [
    "plotly.tools.set_credentials_file(username='lis590dv', api_key='0jCaIttf2QaVJ3lRZZlK')"
   ]
  },
  {
   "cell_type": "code",
   "execution_count": 4,
   "metadata": {
    "collapsed": true
   },
   "outputs": [],
   "source": [
    "import os"
   ]
  },
  {
   "cell_type": "code",
   "execution_count": 5,
   "metadata": {
    "collapsed": false
   },
   "outputs": [
    {
     "data": {
      "text/plain": [
       "'/home/xiaoliangjiang/work'"
      ]
     },
     "execution_count": 5,
     "metadata": {},
     "output_type": "execute_result"
    }
   ],
   "source": [
    "os.getcwd()"
   ]
  },
  {
   "cell_type": "code",
   "execution_count": 6,
   "metadata": {
    "collapsed": false
   },
   "outputs": [
    {
     "data": {
      "text/html": [
       "<div>\n",
       "<table border=\"1\" class=\"dataframe\">\n",
       "  <thead>\n",
       "    <tr style=\"text-align: right;\">\n",
       "      <th></th>\n",
       "      <th>LogNumber</th>\n",
       "      <th>Institution</th>\n",
       "      <th>Program</th>\n",
       "      <th>ProgramType</th>\n",
       "      <th>ProjectTitle</th>\n",
       "      <th>ProjectType</th>\n",
       "      <th>AwardDate</th>\n",
       "      <th>InstAddr1</th>\n",
       "      <th>InstAddr2</th>\n",
       "      <th>InstAddr3</th>\n",
       "      <th>...</th>\n",
       "      <th>FIPSState</th>\n",
       "      <th>FIPSCounty</th>\n",
       "      <th>CensusTract</th>\n",
       "      <th>CensusBlock</th>\n",
       "      <th>FIPSMCDCode</th>\n",
       "      <th>FIPSPlaceCode</th>\n",
       "      <th>CBSACode</th>\n",
       "      <th>MetroDivisionCode</th>\n",
       "      <th>Description</th>\n",
       "      <th>Level</th>\n",
       "    </tr>\n",
       "  </thead>\n",
       "  <tbody>\n",
       "    <tr>\n",
       "      <th>0</th>\n",
       "      <td>IA-00-00-0001-00</td>\n",
       "      <td>Museum of the Aleutians</td>\n",
       "      <td>Conservation Assessment Prog.</td>\n",
       "      <td>IA</td>\n",
       "      <td>NaN</td>\n",
       "      <td>NaN</td>\n",
       "      <td>3/30/2000</td>\n",
       "      <td>P.O. Box 648</td>\n",
       "      <td>NaN</td>\n",
       "      <td>NaN</td>\n",
       "      <td>...</td>\n",
       "      <td>2.0</td>\n",
       "      <td>16.0</td>\n",
       "      <td>200.0</td>\n",
       "      <td>2014.0</td>\n",
       "      <td>1615.0</td>\n",
       "      <td>80770.0</td>\n",
       "      <td>NaN</td>\n",
       "      <td>NaN</td>\n",
       "      <td>NaN</td>\n",
       "      <td>1.0</td>\n",
       "    </tr>\n",
       "    <tr>\n",
       "      <th>1</th>\n",
       "      <td>IA-00-00-0002-00</td>\n",
       "      <td>Depot Museum, Inc.</td>\n",
       "      <td>Conservation Assessment Prog.</td>\n",
       "      <td>IA</td>\n",
       "      <td>NaN</td>\n",
       "      <td>NaN</td>\n",
       "      <td>3/30/2000</td>\n",
       "      <td>P.O. Box 681420</td>\n",
       "      <td>NaN</td>\n",
       "      <td>NaN</td>\n",
       "      <td>...</td>\n",
       "      <td>1.0</td>\n",
       "      <td>49.0</td>\n",
       "      <td>961000.0</td>\n",
       "      <td>2013.0</td>\n",
       "      <td>91206.0</td>\n",
       "      <td>27616.0</td>\n",
       "      <td>NaN</td>\n",
       "      <td>NaN</td>\n",
       "      <td>NaN</td>\n",
       "      <td>1.0</td>\n",
       "    </tr>\n",
       "    <tr>\n",
       "      <th>2</th>\n",
       "      <td>IA-00-00-0003-00</td>\n",
       "      <td>National Voting Rights Museum and Institute</td>\n",
       "      <td>Conservation Assessment Prog.</td>\n",
       "      <td>IA</td>\n",
       "      <td>NaN</td>\n",
       "      <td>NaN</td>\n",
       "      <td>3/30/2000</td>\n",
       "      <td>6 Highway 80 East</td>\n",
       "      <td>NaN</td>\n",
       "      <td>NaN</td>\n",
       "      <td>...</td>\n",
       "      <td>1.0</td>\n",
       "      <td>47.0</td>\n",
       "      <td>957200.0</td>\n",
       "      <td>1005.0</td>\n",
       "      <td>92883.0</td>\n",
       "      <td>NaN</td>\n",
       "      <td>42820.0</td>\n",
       "      <td>NaN</td>\n",
       "      <td>NaN</td>\n",
       "      <td>1.0</td>\n",
       "    </tr>\n",
       "    <tr>\n",
       "      <th>3</th>\n",
       "      <td>IA-00-00-0004-00</td>\n",
       "      <td>Bob Jones Museum</td>\n",
       "      <td>Conservation Assessment Prog.</td>\n",
       "      <td>IA</td>\n",
       "      <td>NaN</td>\n",
       "      <td>NaN</td>\n",
       "      <td>3/30/2000</td>\n",
       "      <td>P.O. Box 613</td>\n",
       "      <td>NaN</td>\n",
       "      <td>NaN</td>\n",
       "      <td>...</td>\n",
       "      <td>NaN</td>\n",
       "      <td>NaN</td>\n",
       "      <td>NaN</td>\n",
       "      <td>NaN</td>\n",
       "      <td>NaN</td>\n",
       "      <td>NaN</td>\n",
       "      <td>NaN</td>\n",
       "      <td>NaN</td>\n",
       "      <td>NaN</td>\n",
       "      <td>1.0</td>\n",
       "    </tr>\n",
       "    <tr>\n",
       "      <th>4</th>\n",
       "      <td>IA-00-00-0005-00</td>\n",
       "      <td>Coronado Museum of History and Art</td>\n",
       "      <td>Conservation Assessment Prog.</td>\n",
       "      <td>IA</td>\n",
       "      <td>NaN</td>\n",
       "      <td>NaN</td>\n",
       "      <td>3/30/2000</td>\n",
       "      <td>1100 Orange Avenue</td>\n",
       "      <td>NaN</td>\n",
       "      <td>NaN</td>\n",
       "      <td>...</td>\n",
       "      <td>6.0</td>\n",
       "      <td>73.0</td>\n",
       "      <td>10900.0</td>\n",
       "      <td>1021.0</td>\n",
       "      <td>92780.0</td>\n",
       "      <td>16378.0</td>\n",
       "      <td>41740.0</td>\n",
       "      <td>NaN</td>\n",
       "      <td>NaN</td>\n",
       "      <td>1.0</td>\n",
       "    </tr>\n",
       "  </tbody>\n",
       "</table>\n",
       "<p>5 rows × 44 columns</p>\n",
       "</div>"
      ],
      "text/plain": [
       "          LogNumber                                  Institution  \\\n",
       "0  IA-00-00-0001-00                      Museum of the Aleutians   \n",
       "1  IA-00-00-0002-00                           Depot Museum, Inc.   \n",
       "2  IA-00-00-0003-00  National Voting Rights Museum and Institute   \n",
       "3  IA-00-00-0004-00                             Bob Jones Museum   \n",
       "4  IA-00-00-0005-00           Coronado Museum of History and Art   \n",
       "\n",
       "                         Program ProgramType ProjectTitle ProjectType  \\\n",
       "0  Conservation Assessment Prog.          IA          NaN         NaN   \n",
       "1  Conservation Assessment Prog.          IA          NaN         NaN   \n",
       "2  Conservation Assessment Prog.          IA          NaN         NaN   \n",
       "3  Conservation Assessment Prog.          IA          NaN         NaN   \n",
       "4  Conservation Assessment Prog.          IA          NaN         NaN   \n",
       "\n",
       "   AwardDate           InstAddr1 InstAddr2 InstAddr3  ...  FIPSState  \\\n",
       "0  3/30/2000        P.O. Box 648       NaN       NaN  ...        2.0   \n",
       "1  3/30/2000     P.O. Box 681420       NaN       NaN  ...        1.0   \n",
       "2  3/30/2000   6 Highway 80 East       NaN       NaN  ...        1.0   \n",
       "3  3/30/2000        P.O. Box 613       NaN       NaN  ...        NaN   \n",
       "4  3/30/2000  1100 Orange Avenue       NaN       NaN  ...        6.0   \n",
       "\n",
       "  FIPSCounty CensusTract  CensusBlock  FIPSMCDCode  FIPSPlaceCode  CBSACode  \\\n",
       "0       16.0       200.0       2014.0       1615.0        80770.0       NaN   \n",
       "1       49.0    961000.0       2013.0      91206.0        27616.0       NaN   \n",
       "2       47.0    957200.0       1005.0      92883.0            NaN   42820.0   \n",
       "3        NaN         NaN          NaN          NaN            NaN       NaN   \n",
       "4       73.0     10900.0       1021.0      92780.0        16378.0   41740.0   \n",
       "\n",
       "   MetroDivisionCode Description Level  \n",
       "0                NaN         NaN   1.0  \n",
       "1                NaN         NaN   1.0  \n",
       "2                NaN         NaN   1.0  \n",
       "3                NaN         NaN   1.0  \n",
       "4                NaN         NaN   1.0  \n",
       "\n",
       "[5 rows x 44 columns]"
      ]
     },
     "execution_count": 6,
     "metadata": {},
     "output_type": "execute_result"
    }
   ],
   "source": [
    "df2 = pd.read_csv('DiscGrants96to13-2017_04_10_19_27_08.csv',encoding='iso-8859-1',sep='\\t')\n",
    "df2.head()"
   ]
  },
  {
   "cell_type": "code",
   "execution_count": 7,
   "metadata": {
    "collapsed": false
   },
   "outputs": [],
   "source": [
    "df3=df2[(df2[\"Longitude\"]>-95)&(df2[\"Latitude\"]<24)]\n",
    "#df2=df2[(((df2[\"Longitude\"]>-95)&(df2[\"Latitude\"]<24))==False)]\n",
    "df2=df2[((df2[\"InstState\"]==\"GU\")|(df2[\"InstState\"]==\"PW\")|(df2[\"InstState\"]==\"VI\")|(df2[\"InstState\"]==\"PR\")|(df2[\"InstState\"]==\"MP\")|(df2[\"InstState\"]==\"FM\")|(df2[\"InstState\"]==\"MH\")|(df2[\"InstState\"]==\"AS\")|(df2[\"InstState\"]==\"\"))==False]\n",
    "#VI,GU,PR,MP,FM,MH,AS,PW\n",
    "# since some points (Saint Thomas, U.S. Virgin Islands) could not be shown on the US map, so I tried to remove them by using the codes above."
   ]
  },
  {
   "cell_type": "code",
   "execution_count": 8,
   "metadata": {
    "collapsed": false
   },
   "outputs": [],
   "source": [
    "#df2.columns"
   ]
  },
  {
   "cell_type": "code",
   "execution_count": 9,
   "metadata": {
    "collapsed": false
   },
   "outputs": [],
   "source": [
    "#df2.describe()"
   ]
  },
  {
   "cell_type": "code",
   "execution_count": 10,
   "metadata": {
    "collapsed": false
   },
   "outputs": [],
   "source": [
    "df2['Text'] = df2['Institution'] + '<br>' + df2['Program'] + '<br>' + 'Program Type: ' + df2['ProgramType'] + '<br>' + 'Total Award: ' + (df2['AwardTotal']/1e3).astype(str)+ ' thousand'\n",
    "#df2['text'] = df2['Institution'] + 'Total Award' + (df2['AwardTotal']/1e3).astype(str)+ ' thousand'\n",
    "limits = [(0,10),(10,100),(100,200),(200,500),(500,1000),(1000,3000)]\n",
    "#colors = [\"#ffcccc\",\"#ffddcc\",\"#ffeecc\",\"#ffffcc\",\"#eeffcc\",\"#ddffcc\"]\n",
    "colors = [\"e0e0e0\",\"#66b2ff\",\"#66ff66\",\"#ffff66\",\"#ffb266\",\"#ff6666\"]\n",
    "institutions = []\n",
    "scale = 6000\n",
    "\n",
    "for i in range(len(limits)):\n",
    "    subdf2=df2[((df2['AwardTotal']/1e3)<limits[i][1])&((df2['AwardTotal']/1e3)>limits[i][0])]\n",
    "    institution = dict(\n",
    "        type = 'scattergeo',\n",
    "        locationmode = 'USA-states',\n",
    "        lon = subdf2['Longitude'],\n",
    "        lat = subdf2['Latitude'],\n",
    "        text = subdf2['Text'],\n",
    "        marker = dict(\n",
    "            size = subdf2['AwardTotal']/scale,\n",
    "            color = colors[i],\n",
    "            line = dict(width=0.5, color='rgb(40,40,40)'),\n",
    "            sizemode = 'area'\n",
    "        ),\n",
    "        name ='{0} - {1}'.format(limits[i][0],limits[i][1])+'  thousand dollar' )\n",
    "    institutions.append(institution)"
   ]
  },
  {
   "cell_type": "code",
   "execution_count": 11,
   "metadata": {
    "collapsed": false
   },
   "outputs": [
    {
     "data": {
      "text/html": [
       "<iframe id=\"igraph\" scrolling=\"no\" style=\"border:none;\" seamless=\"seamless\" src=\"https://plot.ly/~jxljiang221/4.embed\" height=\"525px\" width=\"100%\"></iframe>"
      ],
      "text/plain": [
       "<plotly.tools.PlotlyDisplay object>"
      ]
     },
     "execution_count": 11,
     "metadata": {},
     "output_type": "execute_result"
    }
   ],
   "source": [
    "layout = dict(\n",
    "        title = 'Administrative Discretionary Grants<br>(Click legend to toggle traces)',\n",
    "        showlegend = True,\n",
    "        geo = dict(\n",
    "            scope='usa',\n",
    "            projection=dict( type='albers usa' ),\n",
    "            showland = True,\n",
    "            landcolor = 'rgb(217, 217, 217)',\n",
    "            subunitwidth=1,\n",
    "            countrywidth=1,\n",
    "            subunitcolor=\"rgb(255, 255, 255)\",\n",
    "            countrycolor=\"rgb(255, 255, 255)\"\n",
    "        ),\n",
    "        updatemenus=list([\n",
    "        dict(\n",
    "            x=-0.05,\n",
    "            y=1,\n",
    "            yanchor='top',\n",
    "            buttons=list([\n",
    "                dict(\n",
    "                    args=['visible', [True, True, True, True, True, True]],\n",
    "                    label='All',\n",
    "                    method='restyle'\n",
    "                ),\n",
    "                dict(\n",
    "                    args=['visible', [True, False, False, False, False, False]],\n",
    "                    label='0-10 thousand dollar',\n",
    "                    method='restyle'\n",
    "                ),\n",
    "                dict(\n",
    "                    args=['visible', [False, True, False, False, False, False]],\n",
    "                    label='10-100 thousand dollar',\n",
    "                    method='restyle'\n",
    "                ),\n",
    "                dict(\n",
    "                    args=['visible', [False, False, True, False, False, False]],\n",
    "                    label='100-200 thousand dollar',\n",
    "                    method='restyle'\n",
    "                ),\n",
    "                dict(\n",
    "                    args=['visible', [False, False, False, True, False, False]],\n",
    "                    label='200-500 thousand dollar',\n",
    "                    method='restyle'\n",
    "                ),\n",
    "                dict(\n",
    "                    args=['visible', [False, False, False, False, True, False]],\n",
    "                    label='500-1000 thousand dollar',\n",
    "                    method='restyle'\n",
    "                ),\n",
    "                dict(\n",
    "                    args=['visible', [False, False, False, False, False, True]],\n",
    "                    label='1000+ thousand dollar',\n",
    "                    method='restyle'\n",
    "                )\n",
    "            ]),\n",
    "        )\n",
    "    ]),\n",
    "    )\n",
    "\n",
    "fig = dict( data=institutions, layout=layout )\n",
    "py.iplot( fig, validate=False, filename='q2testworldmap' )"
   ]
  },
  {
   "cell_type": "code",
   "execution_count": 12,
   "metadata": {
    "collapsed": false
   },
   "outputs": [
    {
     "data": {
      "text/html": [
       "<iframe id=\"igraph\" scrolling=\"no\" style=\"border:none;\" seamless=\"seamless\" src=\"https://plot.ly/~jxljiang221/4.embed\" height=\"525px\" width=\"100%\"></iframe>"
      ],
      "text/plain": [
       "<plotly.tools.PlotlyDisplay object>"
      ]
     },
     "execution_count": 12,
     "metadata": {},
     "output_type": "execute_result"
    }
   ],
   "source": [
    "df2['Text'] = df2['Institution'] + '<br>' + df2['Program'] + '<br>' + 'Program Type: ' + df2['ProgramType'] + '<br>' + 'Total Award: ' + (df2['AwardTotal']/1e3).astype(str)+ ' thousand'\n",
    "#df2['text'] = df2['Institution'] + 'Total Award' + (df2['AwardTotal']/1e3).astype(str)+ ' thousand'\n",
    "#limits = [(0,10),(10,100),(100,200),(200,500),(500,1000),(1000,3000)]\n",
    "#colors = [\"#ffcccc\",\"#ffddcc\",\"#ffeecc\",\"#ffffcc\",\"#eeffcc\",\"#ddffcc\"]\n",
    "colors = [\"#ff6666\",\"#ffb266\",\"#ffff66\",\"#b2ff66\",\"#66ff66\",\"#66ffb2\",\"#66ffff\",\"#66b2ff\",\"#6666ff\",\"#ff66ff\",\"#b266ff\",\"#ff66b2\",\"#000000\",\"#404040\",\"#808080\",\"#c0c0c0\",\"#ffffff\"]\n",
    "pt=[\"IL\",\"ST\",\"ML\",\"RE\",\"IC\",\"IM\",\"IS\",\"MN\",\"LE\",\"MP\",\"MH\",\"LT\",\"LI\",\"IG\",\"MA\",\"IA\",\"IG\"]\n",
    "institutions = []\n",
    "scale = 5000\n",
    "\n",
    "for i in range(len(colors)):\n",
    "    subdf2=df2[df2[\"ProgramType\"]==pt[16-i]]\n",
    "    institution = dict(\n",
    "        type = 'scattergeo',\n",
    "        locationmode = 'USA-states',\n",
    "        lon = subdf2['Longitude'],\n",
    "        lat = subdf2['Latitude'],\n",
    "        text = subdf2['Text'],\n",
    "        marker = dict(\n",
    "            size = subdf2['AwardTotal']/scale,\n",
    "            color = colors[16-i],\n",
    "            line = dict(width=0.5, color='rgb(40,40,40)'),\n",
    "            sizemode = 'area'\n",
    "        ),\n",
    "        name =pt[i])\n",
    "    institutions.append(institution)\n",
    "layout = dict(\n",
    "        title = 'Administrative Discretionary Grants<br>(Click legend to toggle traces)',\n",
    "        showlegend = True,\n",
    "        geo = dict(\n",
    "            scope='usa',\n",
    "            projection=dict( type='albers usa' ),\n",
    "            showland = True,\n",
    "            landcolor = 'rgb(217, 217, 217)',\n",
    "            subunitwidth=1,\n",
    "            countrywidth=1,\n",
    "            subunitcolor=\"rgb(255, 255, 255)\",\n",
    "            countrycolor=\"rgb(255, 255, 255)\"\n",
    "        )\n",
    "    )\n",
    "\n",
    "fig = dict( data=institutions, layout=layout )\n",
    "py.iplot( fig, validate=False, filename='q2testworldmap' )"
   ]
  },
  {
   "cell_type": "code",
   "execution_count": 13,
   "metadata": {
    "collapsed": false
   },
   "outputs": [
    {
     "data": {
      "text/html": [
       "<iframe id=\"igraph\" scrolling=\"no\" style=\"border:none;\" seamless=\"seamless\" src=\"https://plot.ly/~jxljiang221/4.embed\" height=\"525px\" width=\"100%\"></iframe>"
      ],
      "text/plain": [
       "<plotly.tools.PlotlyDisplay object>"
      ]
     },
     "execution_count": 13,
     "metadata": {},
     "output_type": "execute_result"
    }
   ],
   "source": [
    "df2['Text'] = df2['Institution'] + '<br>' + df2['Program'] + '<br>' + 'Program Type: ' + df2['ProgramType'] + '<br>' + 'Total Award: ' + (df2['AwardTotal']/1e3).astype(str)+ ' thousand'\n",
    "#df2['text'] = df2['Institution'] + 'Total Award' + (df2['AwardTotal']/1e3).astype(str)+ ' thousand'\n",
    "#limits = [(0,10),(10,100),(100,200),(200,500),(500,1000),(1000,3000)]\n",
    "#colors = [\"#ffcccc\",\"#ffddcc\",\"#ffeecc\",\"#ffffcc\",\"#eeffcc\",\"#ddffcc\"]\n",
    "colors = [\"#ff6666\",\"#ffb266\",\"#ffff66\",\"#b2ff66\",\"#66ff66\",\"#66ffb2\",\"#66ffff\",\"#66b2ff\",\"#6666ff\",\"#ff66ff\",\"#b266ff\",\"#ff66b2\",\"#000000\",\"#404040\",\"#808080\",\"#c0c0c0\",\"#ffffff\"]\n",
    "pt=[\"IL\",\"ST\",\"ML\",\"RE\",\"IC\",\"IM\",\"IS\",\"MN\",\"LE\",\"MP\",\"MH\",\"LT\",\"LI\",\"IG\",\"MA\",\"IA\",\"IG\"]\n",
    "institutions = []\n",
    "scale = 6000\n",
    "\n",
    "for i in range(len(colors)):\n",
    "    subdf2=df2[df2[\"ProgramType\"]==pt[i]]\n",
    "    institution = dict(\n",
    "        type = 'scattergeo',\n",
    "        locationmode = 'USA-states',\n",
    "        lon = subdf2['Longitude'],\n",
    "        lat = subdf2['Latitude'],\n",
    "        text = subdf2['Text'],\n",
    "        marker = dict(\n",
    "            size = subdf2['AwardTotal']/scale,\n",
    "            color = colors[16-i],\n",
    "            line = dict(width=0.5, color='rgb(40,40,40)'),\n",
    "            sizemode = 'area'\n",
    "        ),\n",
    "        name =pt[i])\n",
    "    institutions.append(institution)\n",
    "layout = dict(\n",
    "        title = 'Administrative Discretionary Grants<br>(Click legend to toggle traces)',\n",
    "        showlegend = True,\n",
    "        geo = dict(\n",
    "            scope='usa',\n",
    "            projection=dict( type='albers usa' ),\n",
    "            showland = True,\n",
    "            landcolor = 'rgb(217, 217, 217)',\n",
    "            subunitwidth=1,\n",
    "            countrywidth=1,\n",
    "            subunitcolor=\"rgb(255, 255, 255)\",\n",
    "            countrycolor=\"rgb(255, 255, 255)\"\n",
    "        )\n",
    "    )\n",
    "\n",
    "fig = dict( data=institutions, layout=layout )\n",
    "py.iplot( fig, validate=False, filename='q2testworldmap' )"
   ]
  },
  {
   "cell_type": "code",
   "execution_count": 14,
   "metadata": {
    "collapsed": false
   },
   "outputs": [
    {
     "data": {
      "text/html": [
       "<iframe id=\"igraph\" scrolling=\"no\" style=\"border:none;\" seamless=\"seamless\" src=\"https://plot.ly/~jxljiang221/4.embed\" height=\"525px\" width=\"100%\"></iframe>"
      ],
      "text/plain": [
       "<plotly.tools.PlotlyDisplay object>"
      ]
     },
     "execution_count": 14,
     "metadata": {},
     "output_type": "execute_result"
    }
   ],
   "source": [
    "df2['Text'] = df2['Institution'] + '<br>' + df2['Program'] + '<br>' + 'Program Type: ' + df2['ProgramType'] + '<br>' + 'Total Award: ' + (df2['AwardTotal']/1e3).astype(str)+ ' thousand'\n",
    "#df2['text'] = df2['Institution'] + 'Total Award' + (df2['AwardTotal']/1e3).astype(str)+ ' thousand'\n",
    "limits = [(0,10),(10,100),(100,200),(200,500),(500,1000),(1000,3000)]\n",
    "#colors = [\"#ffcccc\",\"#ffddcc\",\"#ffeecc\",\"#ffffcc\",\"#eeffcc\",\"#ddffcc\"]\n",
    "colors = [\"e0e0e0\",\"#66b2ff\",\"#66ff66\",\"#ffff66\",\"#ffb266\",\"#ff6666\"]\n",
    "institutions = []\n",
    "scale = 6000\n",
    "\n",
    "for i in range(len(limits)):\n",
    "    subdf2=df2[((df2['AwardTotal']/1e3)<limits[i][1])&((df2['AwardTotal']/1e3)>limits[i][0])]\n",
    "    subdf2=subdf2[1:50]\n",
    "    institution = dict(\n",
    "        type = 'scattergeo',\n",
    "        locationmode = 'USA-states',\n",
    "        lon = subdf2['Longitude'],\n",
    "        lat = subdf2['Latitude'],\n",
    "        text = subdf2['Text'],\n",
    "        marker = dict(\n",
    "            size = subdf2['AwardTotal']/scale,\n",
    "            color = colors[i],\n",
    "            line = dict(width=0.5, color='rgb(40,40,40)'),\n",
    "            sizemode = 'area'\n",
    "        ),\n",
    "        name ='{0} - {1}'.format(limits[i][0],limits[i][1])+'  thousand dollar' )\n",
    "    institutions.append(institution)\n",
    "layout = dict(\n",
    "        title = 'Temp Scatter Plot of Top 50 for Administrative Discretionary Grants<br>(Click legend to toggle traces)',\n",
    "        showlegend = True,\n",
    "        geo = dict(\n",
    "            scope='usa',\n",
    "            projection=dict( type='albers usa' ),\n",
    "            showland = True,\n",
    "            landcolor = 'rgb(217, 217, 217)',\n",
    "            subunitwidth=1,\n",
    "            countrywidth=1,\n",
    "            subunitcolor=\"rgb(255, 255, 255)\",\n",
    "            countrycolor=\"rgb(255, 255, 255)\"\n",
    "        )\n",
    "    )\n",
    "\n",
    "fig = dict( data=institutions, layout=layout )\n",
    "py.iplot( fig, validate=False, filename='q2testworldmap' )"
   ]
  },
  {
   "cell_type": "code",
   "execution_count": 15,
   "metadata": {
    "collapsed": false
   },
   "outputs": [
    {
     "data": {
      "text/html": [
       "<iframe id=\"igraph\" scrolling=\"no\" style=\"border:none;\" seamless=\"seamless\" src=\"https://plot.ly/~jxljiang221/4.embed\" height=\"525px\" width=\"100%\"></iframe>"
      ],
      "text/plain": [
       "<plotly.tools.PlotlyDisplay object>"
      ]
     },
     "execution_count": 15,
     "metadata": {},
     "output_type": "execute_result"
    }
   ],
   "source": [
    "df2['Text'] = df2['Institution'] + '<br>' + df2['Program'] + '<br>' + 'Program Type: ' + df2['ProgramType'] + '<br>' + 'Total Award: ' + (df2['AwardTotal']/1e3).astype(str)+ ' thousand'\n",
    "#df2['text'] = df2['Institution'] + 'Total Award' + (df2['AwardTotal']/1e3).astype(str)+ ' thousand'\n",
    "limits = [(0,10),(10,100),(100,200),(200,500),(500,1000),(1000,3000)]\n",
    "#colors = [\"#ffcccc\",\"#ffddcc\",\"#ffeecc\",\"#ffffcc\",\"#eeffcc\",\"#ddffcc\"]\n",
    "colors = [\"e0e0e0\",\"#66b2ff\",\"#66ff66\",\"#ffff66\",\"#ffb266\",\"#ff6666\"]\n",
    "institutions = []\n",
    "scale = 6000\n",
    "\n",
    "\n",
    "for i in range(len(limits)):\n",
    "    subdf2=df2[((df2['AwardTotal']/1e3)<limits[i][1])&((df2['AwardTotal']/1e3)>limits[i][0])]\n",
    "    institution = dict(\n",
    "        type = 'scattergeo',\n",
    "        locationmode = 'ISO-3',\n",
    "        lon = subdf2['Longitude'],\n",
    "        lat = subdf2['Latitude'],\n",
    "        text = subdf2['Text'],\n",
    "        marker = dict(\n",
    "            size = subdf2['AwardTotal']/scale,\n",
    "            color = colors[i],\n",
    "            line = dict(width=0.5, color='rgb(40,40,40)'),\n",
    "            sizemode = 'area'\n",
    "        ),\n",
    "        name ='{0} - {1}'.format(limits[i][0],limits[i][1])+'  thousand dollar' )\n",
    "    institutions.append(institution)\n",
    "layout = dict(\n",
    "        title = 'Administrative Discretionary Grants<br>(Click legend to toggle traces)',\n",
    "        showlegend = True,\n",
    "        geo = dict(\n",
    "            scope='usa',\n",
    "            projection=dict( type='albers usa' ),\n",
    "            showland = True,\n",
    "            landcolor = 'rgb(217, 217, 217)',\n",
    "            subunitwidth=1,\n",
    "            countrywidth=1,\n",
    "            subunitcolor=\"rgb(255, 255, 255)\",\n",
    "            countrycolor=\"rgb(255, 255, 255)\"\n",
    "        )\n",
    "    )\n",
    "\n",
    "fig = dict( data=institutions, layout=layout )\n",
    "py.iplot( fig, validate=False, filename='q2testworldmap' )"
   ]
  },
  {
   "cell_type": "code",
   "execution_count": 21,
   "metadata": {
    "collapsed": true
   },
   "outputs": [],
   "source": [
    "df4 = pd.read_csv('dftemp 2017_04_14_01_20_50.csv',encoding='iso-8859-1')"
   ]
  },
  {
   "cell_type": "code",
   "execution_count": 22,
   "metadata": {
    "collapsed": false
   },
   "outputs": [],
   "source": [
    "for col in df4.columns:\n",
    "    df4[col] = df4[col].astype(str)\n",
    "scl = [[0.0, 'rgb(242,240,247)'],[0.2, 'rgb(218,218,235)'],[0.4, 'rgb(188,189,220)'],\\\n",
    "            [0.6, 'rgb(158,154,200)'],[0.8, 'rgb(117,107,177)'],[1.0, 'rgb(84,39,143)']]\n",
    "\n",
    "df4['Text'] = 'State: ' + df4['states']+ '<br>Total Amount: '+ df4['a']\n"
   ]
  },
  {
   "cell_type": "code",
   "execution_count": 23,
   "metadata": {
    "collapsed": false
   },
   "outputs": [
    {
     "name": "stdout",
     "output_type": "stream",
     "text": [
      "High five! You successfuly sent some data to your account on plotly. View your plot in your browser at https://plot.ly/~lis590dv/0 or inside your plot.ly account where it is named 'd3-cloropleth-map'\n"
     ]
    },
    {
     "data": {
      "text/html": [
       "<iframe id=\"igraph\" scrolling=\"no\" style=\"border:none;\" seamless=\"seamless\" src=\"https://plot.ly/~lis590dv/0.embed\" height=\"525px\" width=\"100%\"></iframe>"
      ],
      "text/plain": [
       "<plotly.tools.PlotlyDisplay object>"
      ]
     },
     "execution_count": 23,
     "metadata": {},
     "output_type": "execute_result"
    }
   ],
   "source": [
    "data = [ dict(\n",
    "        type='choropleth',\n",
    "        colorscale = scl,\n",
    "        autocolorscale = False,\n",
    "        locations = df4['states'],\n",
    "        z = df4['a'].astype(float),\n",
    "        locationmode = 'USA-states',\n",
    "        text = df4['Text'],\n",
    "        marker = dict(\n",
    "            line = dict (\n",
    "                color = 'rgb(255,255,255)',\n",
    "                width = 2\n",
    "            ) ),\n",
    "        colorbar = dict(\n",
    "            title = \"Millions USD\")\n",
    "        ) ]\n",
    "\n",
    "layout = dict(\n",
    "        title = '2011 US Agriculture Exports by State<br>(Hover for breakdown)',\n",
    "        geo = dict(\n",
    "            scope='usa',\n",
    "            projection=dict( type='albers usa' ),\n",
    "            showlakes = True,\n",
    "            lakecolor = 'rgb(255, 255, 255)'),\n",
    "             )\n",
    "    \n",
    "fig = dict( data=data, layout=layout )\n",
    "py.iplot( fig, filename='d3-cloropleth-map' )"
   ]
  },
  {
   "cell_type": "code",
   "execution_count": 24,
   "metadata": {
    "collapsed": true
   },
   "outputs": [],
   "source": [
    "dfby = pd.read_csv('dfperyear 2017_04_14_16_22_04.csv',encoding='iso-8859-1')"
   ]
  },
  {
   "cell_type": "code",
   "execution_count": 25,
   "metadata": {
    "collapsed": true
   },
   "outputs": [],
   "source": [
    "def AmountbyYear(input):\n",
    "    year=input-1996\n",
    "    for col in dfby.columns:\n",
    "        dfby[col] = dfby[col].astype(str)\n",
    "        \n",
    "    scl = [[0.0, 'rgb(242,240,247)'],[0.2, 'rgb(218,218,235)'],[0.4, 'rgb(188,189,220)'],[0.6, 'rgb(158,154,200)'],[0.8, 'rgb(117,107,177)'],[1.0, 'rgb(84,39,143)']]\n",
    "    dftext=[]\n",
    "    dftext= 'State: ' + dfby.columns+ '<br>Total Amount: '+ dfby.loc[year,] + ' dollar'\n",
    "    data = [ dict(\n",
    "        type='choropleth',\n",
    "        colorscale = scl,\n",
    "        autocolorscale = False,\n",
    "        locations = dfby.columns,\n",
    "        z = dfby.loc[year,],\n",
    "        locationmode = 'USA-states',\n",
    "        text = dftext,\n",
    "        marker = dict(\n",
    "            line = dict (\n",
    "                color = 'rgb(255,255,255)',\n",
    "                width = 2\n",
    "            ) ),\n",
    "        colorbar = dict(\n",
    "            title = \"Millions USD\")\n",
    "        ) ]\n",
    "\n",
    "    layout = dict(\n",
    "        title = '%s US Administrative Discretionary Grants<br>(Hover for breakdown)' % year,\n",
    "        geo = dict(\n",
    "            scope='usa',\n",
    "            projection=dict( type='albers usa' ),\n",
    "            showlakes = True,\n",
    "            lakecolor = 'rgb(255, 255, 255)'),\n",
    "             )\n",
    "    \n",
    "    fig = dict( data=data, layout=layout )\n",
    "    py.iplot( fig, filename='d3-cloropleth-map' )\n",
    "    "
   ]
  },
  {
   "cell_type": "code",
   "execution_count": 26,
   "metadata": {
    "collapsed": false
   },
   "outputs": [
    {
     "name": "stdout",
     "output_type": "stream",
     "text": [
      "High five! You successfuly sent some data to your account on plotly. View your plot in your browser at https://plot.ly/~lis590dv/0 or inside your plot.ly account where it is named 'd3-cloropleth-map'\n"
     ]
    }
   ],
   "source": [
    "AmountbyYear(1997)"
   ]
  },
  {
   "cell_type": "code",
   "execution_count": 27,
   "metadata": {
    "collapsed": true
   },
   "outputs": [],
   "source": [
    "year1=2012"
   ]
  },
  {
   "cell_type": "code",
   "execution_count": 28,
   "metadata": {
    "collapsed": false
   },
   "outputs": [
    {
     "name": "stdout",
     "output_type": "stream",
     "text": [
      "High five! You successfuly sent some data to your account on plotly. View your plot in your browser at https://plot.ly/~lis590dv/0 or inside your plot.ly account where it is named 'd3-cloropleth-map'\n"
     ]
    },
    {
     "data": {
      "text/html": [
       "<iframe id=\"igraph\" scrolling=\"no\" style=\"border:none;\" seamless=\"seamless\" src=\"https://plot.ly/~lis590dv/0.embed\" height=\"525px\" width=\"100%\"></iframe>"
      ],
      "text/plain": [
       "<plotly.tools.PlotlyDisplay object>"
      ]
     },
     "execution_count": 28,
     "metadata": {},
     "output_type": "execute_result"
    }
   ],
   "source": [
    "year=year1-1996\n",
    "for col in dfby.columns:\n",
    "    dfby[col] = dfby[col].astype(str)\n",
    "        \n",
    "scl = [[0.0, 'rgb(242,240,247)'],[0.2, 'rgb(218,218,235)'],[0.4, 'rgb(188,189,220)'],[0.6, 'rgb(158,154,200)'],[0.8, 'rgb(117,107,177)'],[1.0, 'rgb(84,39,143)']]\n",
    "dftext=[]\n",
    "dftext= 'State: ' + dfby.columns+ '<br>Total Amount: '+ dfby.loc[year,] + ' dollar'\n",
    "data = [ dict(\n",
    "    type='choropleth',\n",
    "    colorscale = scl,\n",
    "    autocolorscale = False,\n",
    "    locations = dfby.columns,\n",
    "    z = dfby.loc[year,],\n",
    "    locationmode = 'USA-states',\n",
    "    text = dftext,\n",
    "    marker = dict(\n",
    "         line = dict (\n",
    "             color = 'rgb(255,255,255)',\n",
    "              width = 2\n",
    "         ) ),\n",
    "     colorbar = dict(\n",
    "        title = \"Millions USD\")\n",
    "    ) ]\n",
    "\n",
    "layout = dict(\n",
    "    title = '%s US Administrative Discretionary Grants<br>(Hover for breakdown)' % year1,\n",
    "    geo = dict(\n",
    "        scope='usa',\n",
    "        projection=dict( type='albers usa' ),\n",
    "        showlakes = True,\n",
    "        lakecolor = 'rgb(255, 255, 255)'),\n",
    "             )\n",
    "    \n",
    "fig = dict( data=data, layout=layout )\n",
    "py.iplot( fig, filename='d3-cloropleth-map' )"
   ]
  },
  {
   "cell_type": "code",
   "execution_count": null,
   "metadata": {
    "collapsed": true
   },
   "outputs": [],
   "source": []
  }
 ],
 "metadata": {
  "anaconda-cloud": {},
  "kernelspec": {
   "display_name": "Python 3",
   "language": "python",
   "name": "python3"
  },
  "language_info": {
   "codemirror_mode": {
    "name": "ipython",
    "version": 3
   },
   "file_extension": ".py",
   "mimetype": "text/x-python",
   "name": "python",
   "nbconvert_exporter": "python",
   "pygments_lexer": "ipython3",
   "version": "3.5.2"
  }
 },
 "nbformat": 4,
 "nbformat_minor": 1
}
