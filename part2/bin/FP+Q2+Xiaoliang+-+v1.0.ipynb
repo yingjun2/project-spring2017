{
 "cells": [
  {
   "cell_type": "code",
   "execution_count": 2,
   "metadata": {
    "collapsed": false
   },
   "outputs": [],
   "source": [
    "import pandas as pd\n",
    "import numpy as np\n",
    "import matplotlib.pyplot as plt"
   ]
  },
  {
   "cell_type": "code",
   "execution_count": 96,
   "metadata": {
    "collapsed": false
   },
   "outputs": [],
   "source": [
    "import plotly\n",
    "import plotly.plotly as py\n",
    "from plotly.graph_objs import *\n",
    "import pandas as pd"
   ]
  },
  {
   "cell_type": "code",
   "execution_count": 289,
   "metadata": {
    "collapsed": false
   },
   "outputs": [],
   "source": [
    "plotly.tools.set_credentials_file(username='jxljiang221', api_key='RgXxTYxCam4vBca8DHDq')"
   ]
  },
  {
   "cell_type": "code",
   "execution_count": 9,
   "metadata": {
    "collapsed": true
   },
   "outputs": [],
   "source": [
    "import os"
   ]
  },
  {
   "cell_type": "code",
   "execution_count": 11,
   "metadata": {
    "collapsed": false
   },
   "outputs": [
    {
     "data": {
      "text/plain": [
       "'/home/xiaoliangjiang/work'"
      ]
     },
     "execution_count": 11,
     "metadata": {},
     "output_type": "execute_result"
    }
   ],
   "source": [
    "os.getcwd()"
   ]
  },
  {
   "cell_type": "code",
   "execution_count": 274,
   "metadata": {
    "collapsed": false
   },
   "outputs": [
    {
     "data": {
      "text/html": [
       "<div>\n",
       "<table border=\"1\" class=\"dataframe\">\n",
       "  <thead>\n",
       "    <tr style=\"text-align: right;\">\n",
       "      <th></th>\n",
       "      <th>LogNumber</th>\n",
       "      <th>Institution</th>\n",
       "      <th>Program</th>\n",
       "      <th>ProgramType</th>\n",
       "      <th>ProjectTitle</th>\n",
       "      <th>ProjectType</th>\n",
       "      <th>AwardDate</th>\n",
       "      <th>InstAddr1</th>\n",
       "      <th>InstAddr2</th>\n",
       "      <th>InstAddr3</th>\n",
       "      <th>...</th>\n",
       "      <th>FIPSState</th>\n",
       "      <th>FIPSCounty</th>\n",
       "      <th>CensusTract</th>\n",
       "      <th>CensusBlock</th>\n",
       "      <th>FIPSMCDCode</th>\n",
       "      <th>FIPSPlaceCode</th>\n",
       "      <th>CBSACode</th>\n",
       "      <th>MetroDivisionCode</th>\n",
       "      <th>Description</th>\n",
       "      <th>Level</th>\n",
       "    </tr>\n",
       "  </thead>\n",
       "  <tbody>\n",
       "    <tr>\n",
       "      <th>0</th>\n",
       "      <td>IA-00-00-0001-00</td>\n",
       "      <td>Museum of the Aleutians</td>\n",
       "      <td>Conservation Assessment Prog.</td>\n",
       "      <td>IA</td>\n",
       "      <td>NaN</td>\n",
       "      <td>NaN</td>\n",
       "      <td>3/30/2000</td>\n",
       "      <td>P.O. Box 648</td>\n",
       "      <td>NaN</td>\n",
       "      <td>NaN</td>\n",
       "      <td>...</td>\n",
       "      <td>2.0</td>\n",
       "      <td>16.0</td>\n",
       "      <td>200.0</td>\n",
       "      <td>2014.0</td>\n",
       "      <td>1615.0</td>\n",
       "      <td>80770.0</td>\n",
       "      <td>NaN</td>\n",
       "      <td>NaN</td>\n",
       "      <td>NaN</td>\n",
       "      <td>1.0</td>\n",
       "    </tr>\n",
       "    <tr>\n",
       "      <th>1</th>\n",
       "      <td>IA-00-00-0002-00</td>\n",
       "      <td>Depot Museum, Inc.</td>\n",
       "      <td>Conservation Assessment Prog.</td>\n",
       "      <td>IA</td>\n",
       "      <td>NaN</td>\n",
       "      <td>NaN</td>\n",
       "      <td>3/30/2000</td>\n",
       "      <td>P.O. Box 681420</td>\n",
       "      <td>NaN</td>\n",
       "      <td>NaN</td>\n",
       "      <td>...</td>\n",
       "      <td>1.0</td>\n",
       "      <td>49.0</td>\n",
       "      <td>961000.0</td>\n",
       "      <td>2013.0</td>\n",
       "      <td>91206.0</td>\n",
       "      <td>27616.0</td>\n",
       "      <td>NaN</td>\n",
       "      <td>NaN</td>\n",
       "      <td>NaN</td>\n",
       "      <td>1.0</td>\n",
       "    </tr>\n",
       "    <tr>\n",
       "      <th>2</th>\n",
       "      <td>IA-00-00-0003-00</td>\n",
       "      <td>National Voting Rights Museum and Institute</td>\n",
       "      <td>Conservation Assessment Prog.</td>\n",
       "      <td>IA</td>\n",
       "      <td>NaN</td>\n",
       "      <td>NaN</td>\n",
       "      <td>3/30/2000</td>\n",
       "      <td>6 Highway 80 East</td>\n",
       "      <td>NaN</td>\n",
       "      <td>NaN</td>\n",
       "      <td>...</td>\n",
       "      <td>1.0</td>\n",
       "      <td>47.0</td>\n",
       "      <td>957200.0</td>\n",
       "      <td>1005.0</td>\n",
       "      <td>92883.0</td>\n",
       "      <td>NaN</td>\n",
       "      <td>42820.0</td>\n",
       "      <td>NaN</td>\n",
       "      <td>NaN</td>\n",
       "      <td>1.0</td>\n",
       "    </tr>\n",
       "    <tr>\n",
       "      <th>3</th>\n",
       "      <td>IA-00-00-0004-00</td>\n",
       "      <td>Bob Jones Museum</td>\n",
       "      <td>Conservation Assessment Prog.</td>\n",
       "      <td>IA</td>\n",
       "      <td>NaN</td>\n",
       "      <td>NaN</td>\n",
       "      <td>3/30/2000</td>\n",
       "      <td>P.O. Box 613</td>\n",
       "      <td>NaN</td>\n",
       "      <td>NaN</td>\n",
       "      <td>...</td>\n",
       "      <td>NaN</td>\n",
       "      <td>NaN</td>\n",
       "      <td>NaN</td>\n",
       "      <td>NaN</td>\n",
       "      <td>NaN</td>\n",
       "      <td>NaN</td>\n",
       "      <td>NaN</td>\n",
       "      <td>NaN</td>\n",
       "      <td>NaN</td>\n",
       "      <td>1.0</td>\n",
       "    </tr>\n",
       "    <tr>\n",
       "      <th>4</th>\n",
       "      <td>IA-00-00-0005-00</td>\n",
       "      <td>Coronado Museum of History and Art</td>\n",
       "      <td>Conservation Assessment Prog.</td>\n",
       "      <td>IA</td>\n",
       "      <td>NaN</td>\n",
       "      <td>NaN</td>\n",
       "      <td>3/30/2000</td>\n",
       "      <td>1100 Orange Avenue</td>\n",
       "      <td>NaN</td>\n",
       "      <td>NaN</td>\n",
       "      <td>...</td>\n",
       "      <td>6.0</td>\n",
       "      <td>73.0</td>\n",
       "      <td>10900.0</td>\n",
       "      <td>1021.0</td>\n",
       "      <td>92780.0</td>\n",
       "      <td>16378.0</td>\n",
       "      <td>41740.0</td>\n",
       "      <td>NaN</td>\n",
       "      <td>NaN</td>\n",
       "      <td>1.0</td>\n",
       "    </tr>\n",
       "  </tbody>\n",
       "</table>\n",
       "<p>5 rows × 44 columns</p>\n",
       "</div>"
      ],
      "text/plain": [
       "          LogNumber                                  Institution  \\\n",
       "0  IA-00-00-0001-00                      Museum of the Aleutians   \n",
       "1  IA-00-00-0002-00                           Depot Museum, Inc.   \n",
       "2  IA-00-00-0003-00  National Voting Rights Museum and Institute   \n",
       "3  IA-00-00-0004-00                             Bob Jones Museum   \n",
       "4  IA-00-00-0005-00           Coronado Museum of History and Art   \n",
       "\n",
       "                         Program ProgramType ProjectTitle ProjectType  \\\n",
       "0  Conservation Assessment Prog.          IA          NaN         NaN   \n",
       "1  Conservation Assessment Prog.          IA          NaN         NaN   \n",
       "2  Conservation Assessment Prog.          IA          NaN         NaN   \n",
       "3  Conservation Assessment Prog.          IA          NaN         NaN   \n",
       "4  Conservation Assessment Prog.          IA          NaN         NaN   \n",
       "\n",
       "   AwardDate           InstAddr1 InstAddr2 InstAddr3  ...  FIPSState  \\\n",
       "0  3/30/2000        P.O. Box 648       NaN       NaN  ...        2.0   \n",
       "1  3/30/2000     P.O. Box 681420       NaN       NaN  ...        1.0   \n",
       "2  3/30/2000   6 Highway 80 East       NaN       NaN  ...        1.0   \n",
       "3  3/30/2000        P.O. Box 613       NaN       NaN  ...        NaN   \n",
       "4  3/30/2000  1100 Orange Avenue       NaN       NaN  ...        6.0   \n",
       "\n",
       "  FIPSCounty CensusTract  CensusBlock  FIPSMCDCode  FIPSPlaceCode  CBSACode  \\\n",
       "0       16.0       200.0       2014.0       1615.0        80770.0       NaN   \n",
       "1       49.0    961000.0       2013.0      91206.0        27616.0       NaN   \n",
       "2       47.0    957200.0       1005.0      92883.0            NaN   42820.0   \n",
       "3        NaN         NaN          NaN          NaN            NaN       NaN   \n",
       "4       73.0     10900.0       1021.0      92780.0        16378.0   41740.0   \n",
       "\n",
       "   MetroDivisionCode Description Level  \n",
       "0                NaN         NaN   1.0  \n",
       "1                NaN         NaN   1.0  \n",
       "2                NaN         NaN   1.0  \n",
       "3                NaN         NaN   1.0  \n",
       "4                NaN         NaN   1.0  \n",
       "\n",
       "[5 rows x 44 columns]"
      ]
     },
     "execution_count": 274,
     "metadata": {},
     "output_type": "execute_result"
    }
   ],
   "source": [
    "df2 = pd.read_csv('DiscGrants96to13-2017_04_10_19_27_08.csv',encoding='iso-8859-1',sep='\\t')\n",
    "df2.head()"
   ]
  },
  {
   "cell_type": "code",
   "execution_count": 282,
   "metadata": {
    "collapsed": false
   },
   "outputs": [],
   "source": [
    "df3=df2[(df2[\"Longitude\"]>-95)&(df2[\"Latitude\"]<24)]\n",
    "#df2=df2[(((df2[\"Longitude\"]>-95)&(df2[\"Latitude\"]<24))==False)]\n",
    "df2=df2[((df2[\"InstState\"]==\"GU\")|(df2[\"InstState\"]==\"VI\")|(df2[\"InstState\"]==\"PR\")|(df2[\"InstState\"]==\"MP\")|(df2[\"InstState\"]==\"FM\")|(df2[\"InstState\"]==\"MH\")|(df2[\"InstState\"]==\"AS\"))==False]\n",
    "#VI,GU,PR,MP,FM,MH\n",
    "# since some points (Saint Thomas, U.S. Virgin Islands) could not be shown on the US map, so I tried to remove them by using the codes above."
   ]
  },
  {
   "cell_type": "code",
   "execution_count": 283,
   "metadata": {
    "collapsed": false
   },
   "outputs": [],
   "source": [
    "#df2.columns"
   ]
  },
  {
   "cell_type": "code",
   "execution_count": 284,
   "metadata": {
    "collapsed": false
   },
   "outputs": [],
   "source": [
    "#df2.describe()"
   ]
  },
  {
   "cell_type": "code",
   "execution_count": 285,
   "metadata": {
    "collapsed": false
   },
   "outputs": [],
   "source": [
    "df2['Text'] = df2['Institution'] + '<br>' + df2['Program'] + '<br>' + df2['ProgramType'] + 'Total Award' + (df2['AwardTotal']/1e3).astype(str)+ ' thousand'\n",
    "#df2['text'] = df2['Institution'] + 'Total Award' + (df2['AwardTotal']/1e3).astype(str)+ ' thousand'\n",
    "limits = [(0,10),(10,100),(100,200),(200,500),(500,1000),(1000,3000)]\n",
    "#colors = [\"#ffcccc\",\"#ffddcc\",\"#ffeecc\",\"#ffffcc\",\"#eeffcc\",\"#ddffcc\"]\n",
    "colors = [\"e0e0e0\",\"#66b2ff\",\"#66ff66\",\"#ffff66\",\"#ffb266\",\"#ff6666\"]\n",
    "institutions = []\n",
    "scale = 6000\n",
    "\n",
    "for i in range(len(limits)):\n",
    "    subdf2=df2[((df2['AwardTotal']/1e3)<limits[i][1])&((df2['AwardTotal']/1e3)>limits[i][0])]\n",
    "    institution = dict(\n",
    "        type = 'scattergeo',\n",
    "        locationmode = 'USA-states',\n",
    "        lon = subdf2['Longitude'],\n",
    "        lat = subdf2['Latitude'],\n",
    "        text = subdf2['Text'],\n",
    "        marker = dict(\n",
    "            size = subdf2['AwardTotal']/scale,\n",
    "            color = colors[i],\n",
    "            line = dict(width=0.5, color='rgb(40,40,40)'),\n",
    "            sizemode = 'area'\n",
    "        ),\n",
    "        name ='{0} - {1}'.format(limits[i][0],limits[i][1])+'  thousand dollar' )\n",
    "    institutions.append(institution)"
   ]
  },
  {
   "cell_type": "code",
   "execution_count": 286,
   "metadata": {
    "collapsed": false
   },
   "outputs": [
    {
     "name": "stdout",
     "output_type": "stream",
     "text": [
      "High five! You successfuly sent some data to your account on plotly. View your plot in your browser at https://plot.ly/~xjiang36/0 or inside your plot.ly account where it is named 'q2testworldmap'\n"
     ]
    },
    {
     "data": {
      "text/html": [
       "<iframe id=\"igraph\" scrolling=\"no\" style=\"border:none;\" seamless=\"seamless\" src=\"https://plot.ly/~xjiang36/0.embed\" height=\"525px\" width=\"100%\"></iframe>"
      ],
      "text/plain": [
       "<plotly.tools.PlotlyDisplay object>"
      ]
     },
     "execution_count": 286,
     "metadata": {},
     "output_type": "execute_result"
    }
   ],
   "source": [
    "layout = dict(\n",
    "        title = 'Administrative Discretionary Grants<br>(Click legend to toggle traces)',\n",
    "        showlegend = True,\n",
    "        geo = dict(\n",
    "            scope='usa',\n",
    "            projection=dict( type='albers usa' ),\n",
    "            showland = True,\n",
    "            landcolor = 'rgb(217, 217, 217)',\n",
    "            subunitwidth=1,\n",
    "            countrywidth=1,\n",
    "            subunitcolor=\"rgb(255, 255, 255)\",\n",
    "            countrycolor=\"rgb(255, 255, 255)\"\n",
    "        ),\n",
    "        updatemenus=list([\n",
    "        dict(\n",
    "            x=-0.05,\n",
    "            y=1,\n",
    "            yanchor='top',\n",
    "            buttons=list([\n",
    "                dict(\n",
    "                    args=['visible', [True, True, True, True, True, True]],\n",
    "                    label='All',\n",
    "                    method='restyle'\n",
    "                ),\n",
    "                dict(\n",
    "                    args=['visible', [True, False, False, False, False, False]],\n",
    "                    label='0-10 thousand dollar',\n",
    "                    method='restyle'\n",
    "                ),\n",
    "                dict(\n",
    "                    args=['visible', [False, True, False, False, False, False]],\n",
    "                    label='10-100 thousand dollar',\n",
    "                    method='restyle'\n",
    "                ),\n",
    "                dict(\n",
    "                    args=['visible', [False, False, True, False, False, False]],\n",
    "                    label='100-200 thousand dollar',\n",
    "                    method='restyle'\n",
    "                ),\n",
    "                dict(\n",
    "                    args=['visible', [False, False, False, True, False, False]],\n",
    "                    label='200-500 thousand dollar',\n",
    "                    method='restyle'\n",
    "                ),\n",
    "                dict(\n",
    "                    args=['visible', [False, False, False, False, True, False]],\n",
    "                    label='500-1000 thousand dollar',\n",
    "                    method='restyle'\n",
    "                ),\n",
    "                dict(\n",
    "                    args=['visible', [False, False, False, False, False, True]],\n",
    "                    label='1000+ thousand dollar',\n",
    "                    method='restyle'\n",
    "                )\n",
    "            ]),\n",
    "        )\n",
    "    ]),\n",
    "    )\n",
    "\n",
    "fig = dict( data=institutions, layout=layout )\n",
    "py.iplot( fig, validate=False, filename='q2testworldmap' )"
   ]
  },
  {
   "cell_type": "code",
   "execution_count": 270,
   "metadata": {
    "collapsed": false
   },
   "outputs": [
    {
     "name": "stdout",
     "output_type": "stream",
     "text": [
      "High five! You successfuly sent some data to your account on plotly. View your plot in your browser at https://plot.ly/~xjiang36/0 or inside your plot.ly account where it is named 'q2testworldmap'\n"
     ]
    },
    {
     "data": {
      "text/html": [
       "<iframe id=\"igraph\" scrolling=\"no\" style=\"border:none;\" seamless=\"seamless\" src=\"https://plot.ly/~xjiang36/0.embed\" height=\"525px\" width=\"100%\"></iframe>"
      ],
      "text/plain": [
       "<plotly.tools.PlotlyDisplay object>"
      ]
     },
     "execution_count": 270,
     "metadata": {},
     "output_type": "execute_result"
    }
   ],
   "source": [
    "df2['Text'] = df2['Institution'] + '<br>' + df2['Program'] + '<br>' + df2['ProgramType'] + 'Total Award' + (df2['AwardTotal']/1e3).astype(str)+ ' thousand'\n",
    "#df2['text'] = df2['Institution'] + 'Total Award' + (df2['AwardTotal']/1e3).astype(str)+ ' thousand'\n",
    "#limits = [(0,10),(10,100),(100,200),(200,500),(500,1000),(1000,3000)]\n",
    "#colors = [\"#ffcccc\",\"#ffddcc\",\"#ffeecc\",\"#ffffcc\",\"#eeffcc\",\"#ddffcc\"]\n",
    "colors = [\"#ff6666\",\"#ffb266\",\"#ffff66\",\"#b2ff66\",\"#66ff66\",\"#66ffb2\",\"#66ffff\",\"#66b2ff\",\"#6666ff\",\"#ff66ff\",\"#b266ff\",\"#ff66b2\",\"#000000\",\"#404040\",\"#808080\",\"#c0c0c0\",\"#ffffff\"]\n",
    "pt=[\"IL\",\"ST\",\"ML\",\"RE\",\"IC\",\"IM\",\"IS\",\"MN\",\"LE\",\"MP\",\"MH\",\"LT\",\"LI\",\"IG\",\"MA\",\"IA\",\"IG\"]\n",
    "institutions = []\n",
    "scale = 5000\n",
    "\n",
    "for i in range(len(colors)):\n",
    "    subdf2=df2[df2[\"ProgramType\"]==pt[16-i]]\n",
    "    institution = dict(\n",
    "        type = 'scattergeo',\n",
    "        locationmode = 'USA-states',\n",
    "        lon = subdf2['Longitude'],\n",
    "        lat = subdf2['Latitude'],\n",
    "        text = subdf2['Text'],\n",
    "        marker = dict(\n",
    "            size = subdf2['AwardTotal']/scale,\n",
    "            color = colors[16-i],\n",
    "            line = dict(width=0.5, color='rgb(40,40,40)'),\n",
    "            sizemode = 'area'\n",
    "        ),\n",
    "        name =pt[i])\n",
    "    institutions.append(institution)\n",
    "layout = dict(\n",
    "        title = 'Administrative Discretionary Grants<br>(Click legend to toggle traces)',\n",
    "        showlegend = True,\n",
    "        geo = dict(\n",
    "            scope='usa',\n",
    "            projection=dict( type='albers usa' ),\n",
    "            showland = True,\n",
    "            landcolor = 'rgb(217, 217, 217)',\n",
    "            subunitwidth=1,\n",
    "            countrywidth=1,\n",
    "            subunitcolor=\"rgb(255, 255, 255)\",\n",
    "            countrycolor=\"rgb(255, 255, 255)\"\n",
    "        )\n",
    "    )\n",
    "\n",
    "fig = dict( data=institutions, layout=layout )\n",
    "py.iplot( fig, validate=False, filename='q2testworldmap' )"
   ]
  },
  {
   "cell_type": "code",
   "execution_count": 271,
   "metadata": {
    "collapsed": false
   },
   "outputs": [
    {
     "name": "stdout",
     "output_type": "stream",
     "text": [
      "High five! You successfuly sent some data to your account on plotly. View your plot in your browser at https://plot.ly/~xjiang36/0 or inside your plot.ly account where it is named 'q2testworldmap'\n"
     ]
    },
    {
     "data": {
      "text/html": [
       "<iframe id=\"igraph\" scrolling=\"no\" style=\"border:none;\" seamless=\"seamless\" src=\"https://plot.ly/~xjiang36/0.embed\" height=\"525px\" width=\"100%\"></iframe>"
      ],
      "text/plain": [
       "<plotly.tools.PlotlyDisplay object>"
      ]
     },
     "execution_count": 271,
     "metadata": {},
     "output_type": "execute_result"
    }
   ],
   "source": [
    "df2['Text'] = df2['Institution'] + '<br>' + df2['Program'] + '<br>' + df2['ProgramType'] + 'Total Award' + (df2['AwardTotal']/1e3).astype(str)+ ' thousand'\n",
    "#df2['text'] = df2['Institution'] + 'Total Award' + (df2['AwardTotal']/1e3).astype(str)+ ' thousand'\n",
    "#limits = [(0,10),(10,100),(100,200),(200,500),(500,1000),(1000,3000)]\n",
    "#colors = [\"#ffcccc\",\"#ffddcc\",\"#ffeecc\",\"#ffffcc\",\"#eeffcc\",\"#ddffcc\"]\n",
    "colors = [\"#ff6666\",\"#ffb266\",\"#ffff66\",\"#b2ff66\",\"#66ff66\",\"#66ffb2\",\"#66ffff\",\"#66b2ff\",\"#6666ff\",\"#ff66ff\",\"#b266ff\",\"#ff66b2\",\"#000000\",\"#404040\",\"#808080\",\"#c0c0c0\",\"#ffffff\"]\n",
    "pt=[\"IL\",\"ST\",\"ML\",\"RE\",\"IC\",\"IM\",\"IS\",\"MN\",\"LE\",\"MP\",\"MH\",\"LT\",\"LI\",\"IG\",\"MA\",\"IA\",\"IG\"]\n",
    "institutions = []\n",
    "scale = 6000\n",
    "\n",
    "for i in range(len(colors)):\n",
    "    subdf2=df2[df2[\"ProgramType\"]==pt[i]]\n",
    "    institution = dict(\n",
    "        type = 'scattergeo',\n",
    "        locationmode = 'USA-states',\n",
    "        lon = subdf2['Longitude'],\n",
    "        lat = subdf2['Latitude'],\n",
    "        text = subdf2['Text'],\n",
    "        marker = dict(\n",
    "            size = subdf2['AwardTotal']/scale,\n",
    "            color = colors[16-i],\n",
    "            line = dict(width=0.5, color='rgb(40,40,40)'),\n",
    "            sizemode = 'area'\n",
    "        ),\n",
    "        name =pt[i])\n",
    "    institutions.append(institution)\n",
    "layout = dict(\n",
    "        title = 'Administrative Discretionary Grants<br>(Click legend to toggle traces)',\n",
    "        showlegend = True,\n",
    "        geo = dict(\n",
    "            scope='usa',\n",
    "            projection=dict( type='albers usa' ),\n",
    "            showland = True,\n",
    "            landcolor = 'rgb(217, 217, 217)',\n",
    "            subunitwidth=1,\n",
    "            countrywidth=1,\n",
    "            subunitcolor=\"rgb(255, 255, 255)\",\n",
    "            countrycolor=\"rgb(255, 255, 255)\"\n",
    "        )\n",
    "    )\n",
    "\n",
    "fig = dict( data=institutions, layout=layout )\n",
    "py.iplot( fig, validate=False, filename='q2testworldmap' )"
   ]
  },
  {
   "cell_type": "code",
   "execution_count": 272,
   "metadata": {
    "collapsed": false
   },
   "outputs": [
    {
     "name": "stdout",
     "output_type": "stream",
     "text": [
      "High five! You successfuly sent some data to your account on plotly. View your plot in your browser at https://plot.ly/~xjiang36/0 or inside your plot.ly account where it is named 'q2testworldmap'\n"
     ]
    },
    {
     "data": {
      "text/html": [
       "<iframe id=\"igraph\" scrolling=\"no\" style=\"border:none;\" seamless=\"seamless\" src=\"https://plot.ly/~xjiang36/0.embed\" height=\"525px\" width=\"100%\"></iframe>"
      ],
      "text/plain": [
       "<plotly.tools.PlotlyDisplay object>"
      ]
     },
     "execution_count": 272,
     "metadata": {},
     "output_type": "execute_result"
    }
   ],
   "source": [
    "df2['Text'] = df2['Institution'] + '<br>' + df2['Program'] + '<br>' + 'Program Type: ' + df2['ProgramType']  + '<br>'+ 'Total Award: ' + (df2['AwardTotal']/1e3).astype(str)+ ' thousand'\n",
    "#df2['text'] = df2['Institution'] + 'Total Award' + (df2['AwardTotal']/1e3).astype(str)+ ' thousand'\n",
    "limits = [(0,10),(10,100),(100,200),(200,500),(500,1000),(1000,3000)]\n",
    "#colors = [\"#ffcccc\",\"#ffddcc\",\"#ffeecc\",\"#ffffcc\",\"#eeffcc\",\"#ddffcc\"]\n",
    "colors = [\"e0e0e0\",\"#66b2ff\",\"#66ff66\",\"#ffff66\",\"#ffb266\",\"#ff6666\"]\n",
    "institutions = []\n",
    "scale = 6000\n",
    "\n",
    "for i in range(len(limits)):\n",
    "    subdf2=df2[((df2['AwardTotal']/1e3)<limits[i][1])&((df2['AwardTotal']/1e3)>limits[i][0])]\n",
    "    subdf2=subdf2[1:50]\n",
    "    institution = dict(\n",
    "        type = 'scattergeo',\n",
    "        locationmode = 'USA-states',\n",
    "        lon = subdf2['Longitude'],\n",
    "        lat = subdf2['Latitude'],\n",
    "        text = subdf2['Text'],\n",
    "        marker = dict(\n",
    "            size = subdf2['AwardTotal']/scale,\n",
    "            color = colors[i],\n",
    "            line = dict(width=0.5, color='rgb(40,40,40)'),\n",
    "            sizemode = 'area'\n",
    "        ),\n",
    "        name ='{0} - {1}'.format(limits[i][0],limits[i][1])+'  thousand dollar' )\n",
    "    institutions.append(institution)\n",
    "layout = dict(\n",
    "        title = 'Temp Scatter Plot of Top 50 for Administrative Discretionary Grants<br>(Click legend to toggle traces)',\n",
    "        showlegend = True,\n",
    "        geo = dict(\n",
    "            scope='usa',\n",
    "            projection=dict( type='albers usa' ),\n",
    "            showland = True,\n",
    "            landcolor = 'rgb(217, 217, 217)',\n",
    "            subunitwidth=1,\n",
    "            countrywidth=1,\n",
    "            subunitcolor=\"rgb(255, 255, 255)\",\n",
    "            countrycolor=\"rgb(255, 255, 255)\"\n",
    "        )\n",
    "    )\n",
    "\n",
    "fig = dict( data=institutions, layout=layout )\n",
    "py.iplot( fig, validate=False, filename='q2testworldmap' )"
   ]
  },
  {
   "cell_type": "code",
   "execution_count": 290,
   "metadata": {
    "collapsed": false
   },
   "outputs": [
    {
     "data": {
      "text/html": [
       "<iframe id=\"igraph\" scrolling=\"no\" style=\"border:none;\" seamless=\"seamless\" src=\"https://plot.ly/~jxljiang221/4.embed\" height=\"525px\" width=\"100%\"></iframe>"
      ],
      "text/plain": [
       "<plotly.tools.PlotlyDisplay object>"
      ]
     },
     "execution_count": 290,
     "metadata": {},
     "output_type": "execute_result"
    }
   ],
   "source": [
    "df2['Text'] = df2['Institution'] + '<br>' + df2['Program'] + '<br>' + df2['ProgramType'] + 'Total Award' + (df2['AwardTotal']/1e3).astype(str)+ ' thousand'\n",
    "#df2['text'] = df2['Institution'] + 'Total Award' + (df2['AwardTotal']/1e3).astype(str)+ ' thousand'\n",
    "limits = [(0,10),(10,100),(100,200),(200,500),(500,1000),(1000,3000)]\n",
    "#colors = [\"#ffcccc\",\"#ffddcc\",\"#ffeecc\",\"#ffffcc\",\"#eeffcc\",\"#ddffcc\"]\n",
    "colors = [\"e0e0e0\",\"#66b2ff\",\"#66ff66\",\"#ffff66\",\"#ffb266\",\"#ff6666\"]\n",
    "institutions = []\n",
    "scale = 6000\n",
    "\n",
    "\n",
    "for i in range(len(limits)):\n",
    "    subdf2=df2[((df2['AwardTotal']/1e3)<limits[i][1])&((df2['AwardTotal']/1e3)>limits[i][0])]\n",
    "    institution = dict(\n",
    "        type = 'scattergeo',\n",
    "        locationmode = 'ISO-3',\n",
    "        lon = subdf2['Longitude'],\n",
    "        lat = subdf2['Latitude'],\n",
    "        text = subdf2['Text'],\n",
    "        marker = dict(\n",
    "            size = subdf2['AwardTotal']/scale,\n",
    "            color = colors[i],\n",
    "            line = dict(width=0.5, color='rgb(40,40,40)'),\n",
    "            sizemode = 'area'\n",
    "        ),\n",
    "        name ='{0} - {1}'.format(limits[i][0],limits[i][1])+'  thousand dollar' )\n",
    "    institutions.append(institution)\n",
    "layout = dict(\n",
    "        title = 'Administrative Discretionary Grants<br>(Click legend to toggle traces)',\n",
    "        showlegend = True,\n",
    "        geo = dict(\n",
    "            scope='usa',\n",
    "            projection=dict( type='albers usa' ),\n",
    "            showland = True,\n",
    "            landcolor = 'rgb(217, 217, 217)',\n",
    "            subunitwidth=1,\n",
    "            countrywidth=1,\n",
    "            subunitcolor=\"rgb(255, 255, 255)\",\n",
    "            countrycolor=\"rgb(255, 255, 255)\"\n",
    "        )\n",
    "    )\n",
    "\n",
    "fig = dict( data=institutions, layout=layout )\n",
    "py.iplot( fig, validate=False, filename='q2testworldmap' )"
   ]
  },
  {
   "cell_type": "code",
   "execution_count": null,
   "metadata": {
    "collapsed": true
   },
   "outputs": [],
   "source": []
  }
 ],
 "metadata": {
  "anaconda-cloud": {},
  "kernelspec": {
   "display_name": "Python 3",
   "language": "python",
   "name": "python3"
  },
  "language_info": {
   "codemirror_mode": {
    "name": "ipython",
    "version": 3
   },
   "file_extension": ".py",
   "mimetype": "text/x-python",
   "name": "python",
   "nbconvert_exporter": "python",
   "pygments_lexer": "ipython3",
   "version": "3.5.2"
  }
 },
 "nbformat": 4,
 "nbformat_minor": 1
}
